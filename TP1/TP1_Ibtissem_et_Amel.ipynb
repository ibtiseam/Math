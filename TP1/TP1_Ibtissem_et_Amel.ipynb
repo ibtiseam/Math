{
 "cells": [
  {
   "cell_type": "markdown",
   "metadata": {},
   "source": [
    "<img src=\"tpan1.png\">"
   ]
  },
  {
   "cell_type": "markdown",
   "metadata": {},
   "source": [
    "### Réalisé par :\n",
    "* **<strong>Ibtissem BOUZIDI 2DNI1</strong> \n",
    "* <strong>Amel ELAGES 2DNI1</strong>**\n",
    "\n"
   ]
  },
  {
   "cell_type": "markdown",
   "metadata": {},
   "source": [
    ">* **<span style=\"color:#0000C0\">Travail demandé : </span>**\n",
    "<br> Pour chacune des distributions ci-dessous, l'exercice est le suivant :\n",
    "> <ol> <li> Faire un programme qui génère N valeurs de la variables aléatoire: $X_{1} X_{2} . . . X_{N}$ . On prendra $N$ grand, mettons 10000 ou plus.</li>\n",
    " <li>Calculer les estimateurs statistiques pour la moyenne est la variance de la variable aléatoire $X$ , selon les formules (1) ci-dessus, et vérifier que $\\hat{X_{N}}$ .$N$ est proche de la moyenne  $\\mathbb{E\\hat{X_{N}}}$ , et $\\hat{Var^2_{N}}$ proche de la variance $Var^2_{N}$ .\n",
    "Il est intéressant de voir comment ces statistiques dépendent de M : tracer les graphes des fonctions $N\\to{\\hat{X_{N}}}$ et $N\\to{\\hat{Var^2_{N}}}$ .\n",
    "    </li></ol>"
   ]
  },
  {
   "cell_type": "markdown",
   "metadata": {},
   "source": [
    "* **<span style=\"color:red\">Exemple 1: </span>**\n",
    "* <strong> Partie 1: <code> Etude théorique</code></strong>\n"
   ]
  },
  {
   "cell_type": "markdown",
   "metadata": {},
   "source": [
    "<span style=\"color:#0000C0\">Moyenne empirique: </span>\n",
    "→La statistique la plus évidente à calculer sur un échantillon numérique, celle dont l'interprétation est la plus intuitive, est la moyenne empirique.La moyenne empirique d'un échantillon est la somme de ses éléments divisée par leur nombre. Si l'échantillon est noté $ (x_1,\\ldots,x_n)$, sa moyenne empirique est :\n",
    "\n",
    "\n",
    "$$\\displaystyle \\overline{x} = \\frac{1}{n} (x_1+\\cdots+x_n)\\;. \n",
    "$$</p>"
   ]
  },
  {
   "cell_type": "markdown",
   "metadata": {},
   "source": [
    "<span style=\"color:#0000C0\">Variance empirique : </span>\n",
    "→Les notions de variance et d'écart-type servent à quantifier la dispersion d'un échantillon autour de sa moyenne. La définition est la suivante :Soit $ (x_1,\\ldots,x_n)$ un échantillon, et $ \\overline{x}$ sa moyenne empirique. On appelle variance de l'échantillon, la quantité, notée $ s^2$, définie par :\n",
    "\n",
    "$$\\displaystyle s^2 = \\frac{1}{n} \\sum_{i=1}^n (x_i-\\overline{x})^2\\;.\n",
    "$$"
   ]
  },
  {
   "cell_type": "markdown",
   "metadata": {},
   "source": [
    "* <strong> Partie 2: <code> Développment</code></strong>\n",
    "<p>→ Pour faire des statistiques, il faut un échantillon de données uniforme continue aléatoiressur $[a,b]$ . Et pour avoir des données sous Python, on peut fabriquer une liste contenant ces $N$ nombres</p>"
   ]
  },
  {
   "cell_type": "code",
   "execution_count": 1,
   "metadata": {},
   "outputs": [],
   "source": [
    "import random\n",
    "import matplotlib.pyplot as plt"
   ]
  },
  {
   "cell_type": "markdown",
   "metadata": {},
   "source": [
    ">  <strong><a  style=\"color:#FF300\" > Random :</a></strong>\n",
    " Random est un module Python regroupant plusieurs fonctions permettant de travailler avec des valeurs aléatoires.\n",
    "<br><strong><a  style=\"color:#FF300\" > Matplotlib :         </a></strong>\n",
    "Est une bibliothèque Python capable de produire des graphes de qualité. Matplotlib peut être utilisé dans des scripts Python, le shell Python et IPython, le notebook Jupyter, des serveurs d’application web et dans quatre outils d’interface graphique."
   ]
  },
  {
   "cell_type": "code",
   "execution_count": 2,
   "metadata": {},
   "outputs": [],
   "source": [
    "import random\n",
    "import matplotlib.pyplot as plt\n",
    "arr =[]\n",
    "def F(x):\n",
    "    if x in (0,1) :\n",
    "        return(x)\n",
    "###############################\n",
    "def donnees (n):\n",
    "    for i in range(0,n) :\n",
    "        arr.append(random.uniform(0, 1))\n",
    "    return(arr)"
   ]
  },
  {
   "cell_type": "markdown",
   "metadata": {},
   "source": [
    "*  <strong><span style=\"color:#0000C0\">Moyenne empirique:</span></strong>\n",
    "<p>→ Pour calculer la moyenne des nombres qui sont dans donnees, on les additionne et on divise la somme par le nombre de nombres qu'il y a dans donnees:</p>"
   ]
  },
  {
   "cell_type": "code",
   "execution_count": 3,
   "metadata": {},
   "outputs": [],
   "source": [
    "def moy(tableau):\n",
    "    return sum(tableau) / len(tableau)"
   ]
  },
  {
   "cell_type": "markdown",
   "metadata": {},
   "source": [
    "*  <strong><span style=\"color:#0000C0\">Variance empirique:</span></strong>\n",
    "<p>→ La variance est définie comme la moyenne des carrés des écarts à la moyenne:</p>"
   ]
  },
  {
   "cell_type": "code",
   "execution_count": 4,
   "metadata": {},
   "outputs": [],
   "source": [
    "def var_emp(tableau):\n",
    "    m=moy(tableau)\n",
    "    return moy([(x-m)**2 for x in tableau])"
   ]
  },
  {
   "cell_type": "markdown",
   "metadata": {},
   "source": [
    "* <p>Maintenant on va déclarer 2 listes un pour la variation et l'autre pour la moyenne contient les différentes valeurs aléatoires de data set avec différent taille de données </p>"
   ]
  },
  {
   "cell_type": "code",
   "execution_count": 5,
   "metadata": {},
   "outputs": [],
   "source": [
    "taille=[1000,10000,90000,900000] # Echantillons\n",
    "mean=[]\n",
    "var =[]\n",
    "for i in taille :\n",
    "    data = donnees(i)\n",
    "    mean.append(moy(data))#lite contien les moyennes de chaque taille \n",
    "    var.append(var_emp(data))#lite contien les variances de chaque taille\n"
   ]
  },
  {
   "cell_type": "markdown",
   "metadata": {},
   "source": [
    "*  <strong><span style=\"color:#0000C0\">visualisation:</span></strong>\n",
    "<p>→Enfin en va faire un affichage graphique de la moyenne/variation par rapport a sa taille:</p>"
   ]
  },
  {
   "cell_type": "code",
   "execution_count": 6,
   "metadata": {},
   "outputs": [
    {
     "data": {
      "image/png": "[encoded data removed]",
      "text/plain": [
       "<Figure size 432x288 with 1 Axes>"
      ]
     },
     "metadata": {
      "needs_background": "light"
     },
     "output_type": "display_data"
    }
   ],
   "source": [
    "plt.plot(taille,var,'r*')\n",
    "plt.plot(taille,mean,'b*')\n",
    "plt.xlabel(\"N : les valeurs alératoires\")\n",
    "plt.ylabel(\"moyenne/ variance\")\n",
    "plt.show()\n"
   ]
  },
  {
   "cell_type": "markdown",
   "metadata": {},
   "source": [
    "*  <strong><span style=\"color:red\">Interprétation:</span></strong>"
   ]
  },
  {
   "cell_type": "markdown",
   "metadata": {},
   "source": [
    "<span style=\"color:blue\">→ Résultats pratiques:</span>"
   ]
  },
  {
   "cell_type": "code",
   "execution_count": 7,
   "metadata": {},
   "outputs": [
    {
     "name": "stdout",
     "output_type": "stream",
     "text": [
      "Nombre des variables aleatoire Xi est= 1000 ,la moyenne= 0.49897178156090405 ,la variance= 0.08352926369922925.\n",
      "Nombre des variables aleatoire Xi est= 10000 ,la moyenne= 0.5019360435242833 ,la variance= 0.0841053293434808.\n",
      "Nombre des variables aleatoire Xi est= 90000 ,la moyenne= 0.5005493776389517 ,la variance= 0.0837569652709492.\n",
      "Nombre des variables aleatoire Xi est= 900000 ,la moyenne= 0.499632507684726 ,la variance= 0.08329262770062756.\n"
     ]
    }
   ],
   "source": [
    "for i in range(len(taille)):\n",
    "    print ('Nombre des variables aleatoire Xi est= {} ,la moyenne= {} ,la variance= {}.'.format(taille[i],mean[i],var[i]))"
   ]
  },
  {
   "cell_type": "markdown",
   "metadata": {},
   "source": [
    "<span style=\"color:blue\">→ Résultats Théoriques:</span>\n",
    "* <p> $\\mathbb{E\\hat{X}}=\\frac{1}{2}=$ 0.50\n",
    "* $Var= \\frac{1}{12}=$ 0.083283876</p>"
   ]
  },
  {
   "cell_type": "markdown",
   "metadata": {},
   "source": [
    "*  <strong><span style=\"color:red\">Amélioration:</span></strong>\n",
    "><strong><a  style=\"color:#FF300\" > NumPy :</a></strong>\n",
    " nous allons commencer à utiliser une autre librairie de la pile scientifique de Python, Numpy.\n",
    "Numpy contient de nombreuses fonctions et structures de données orientées vers l'algèbre linéaire et l'analyse de données. Vous pouvez imaginer Numpy comme l'équivalent en Python du logiciel Matlab ..\n",
    "\n",
    "<p><strong>→numpy.var(): </strong>La fonction de variance dans python numpy est utilisée pour calculer la variance d'un ensemble donné.</p>\n",
    "<p><strong>→numpy.mean(): </strong>La fonction moyenne dans les numpy de python est utilisée pour calculer la moyenne arithmétique d'un ensemble donné.</p>\n",
    "\n"
   ]
  },
  {
   "cell_type": "code",
   "execution_count": 8,
   "metadata": {},
   "outputs": [],
   "source": [
    "import numpy as np\n",
    "taille=[1000,10000,90000,900000] # Echantillons\n",
    "mean=[]\n",
    "var =[]\n",
    "for i in taille :\n",
    "    data = donnees(i)\n",
    "    mean.append(np.mean(data))#lite contien les moyenne de chaque taille \n",
    "    var.append(np.var(data))#lite contien les variance de chaque taille\n"
   ]
  },
  {
   "cell_type": "code",
   "execution_count": 9,
   "metadata": {},
   "outputs": [
    {
     "data": {
      "image/png": "[encoded data removed]",
      "text/plain": [
       "<Figure size 432x288 with 1 Axes>"
      ]
     },
     "metadata": {
      "needs_background": "light"
     },
     "output_type": "display_data"
    },
    {
     "name": "stdout",
     "output_type": "stream",
     "text": [
      "Nombre des variables aleatoire Xi est= 1000 ,la moyenne= 0.49964544448411763 ,la variance= 0.08329156985408538.\n",
      "Nombre des variables aleatoire Xi est= 10000 ,la moyenne= 0.4996802775996818 ,la variance= 0.08328918189301643.\n",
      "Nombre des variables aleatoire Xi est= 90000 ,la moyenne= 0.4996613936143519 ,la variance= 0.0832854500906392.\n",
      "Nombre des variables aleatoire Xi est= 900000 ,la moyenne= 0.49980429334785914 ,la variance= 0.08332411693200088.\n"
     ]
    }
   ],
   "source": [
    "plt.plot(taille,var,'r*')\n",
    "plt.plot(taille,mean,'b*')\n",
    "plt.xlabel(\"N : les valeurs alératoires\")\n",
    "plt.ylabel(\"moyenne/ variance\")\n",
    "plt.show()\n",
    "for i in range(len(taille)):\n",
    "    print ('Nombre des variables aleatoire Xi est= {} ,la moyenne= {} ,la variance= {}.'.format(taille[i],mean[i],var[i]))"
   ]
  },
  {
   "cell_type": "markdown",
   "metadata": {},
   "source": [
    "* <span style=\"color:#0000C0\"> Le module NumPy fournit des fonctions statistiques qui facilite le calcule.&#x1F601;</span>"
   ]
  },
  {
   "cell_type": "markdown",
   "metadata": {},
   "source": [
    "<div class=\"alert alert-block alert-warning\">** <span style=\"color:#800000\">Le même resultat !!! plus facile et plus simple .. </span>** </div>\n"
   ]
  },
  {
   "cell_type": "markdown",
   "metadata": {},
   "source": [
    "<div class=\"alert alert-block alert-danger\">** <span style=\"color:#800000\">Quelque soit la valeur de $N$, la valeur de la moyenne empirique et la varience empirique sont trés proches de les resulats théoriques. </span>** </div>\n"
   ]
  },
  {
   "cell_type": "markdown",
   "metadata": {},
   "source": [
    "* **<span style=\"color:red\">Exemple 2: </span>**\n"
   ]
  },
  {
   "cell_type": "markdown",
   "metadata": {},
   "source": [
    " <br>$$\\mathbb{EX}=\\frac{1}{\\lambda}$$ <center> $𝝈^2_{x} F(x)=1-𝒆^{-x\\lambda}$ , $x≥0$ </center>\n",
    "* <strong> Partie 1: <code> Etude théorique</code></strong>\n"
   ]
  },
  {
   "cell_type": "code",
   "execution_count": 10,
   "metadata": {},
   "outputs": [],
   "source": [
    "import numpy as np\n",
    "import math"
   ]
  },
  {
   "cell_type": "markdown",
   "metadata": {},
   "source": [
    "<p><strong>→ Random sampling (numpy.random) : </strong>Produisent des nombres pseudo aléatoires en utilisant des combinaisons d'un BitGenerator pour créer des séquences et d'un Generator pour utiliser ces séquences pour échantillonner à partir de différentes distributions statistiques:</p>"
   ]
  },
  {
   "cell_type": "markdown",
   "metadata": {},
   "source": [
    "\n",
    "> <strong><a  style=\"color:#FF300\" > BitGenerators: </a></strong>\n",
    " Objets qui génèrent des nombres aléatoires. Ce sont généralement des mots entiers non signés remplis de séquences de 32 ou 64  bits aléatoires.\n",
    "<br><strong><a  style=\"color:#FF300\" > Générateurs: </a></strong>\n",
    "Objets qui transforment des séquences de bits aléatoires d'un BitGenerator en séquences de nombres qui suivent une distribution de probabilité spécifique (telle que uniforme, normale ou binomiale) dans un intervalle spécifié."
   ]
  },
  {
   "cell_type": "markdown",
   "metadata": {},
   "source": [
    "* **<span style=\"color:orange\">méthode 1: </span>**\n"
   ]
  },
  {
   "cell_type": "markdown",
   "metadata": {},
   "source": [
    "* <center><p>Déclaration d'une fonction qui permet de génére $N$ valeurs de la variable aléatoires d’une façon uniforme.</p>\n",
    "<br><strong>Avec $\\lambda$: nombre d’échantillon.</center></strong>"
   ]
  },
  {
   "cell_type": "markdown",
   "metadata": {},
   "source": [
    "* <strong> Partie 1: <code> Etude paratique</code></strong>"
   ]
  },
  {
   "cell_type": "code",
   "execution_count": 15,
   "metadata": {},
   "outputs": [],
   "source": [
    "def donnees (n,lamda):\n",
    "    tab=np.random.exponential(1/lamda,n)\n",
    "    return tab"
   ]
  },
  {
   "cell_type": "code",
   "execution_count": 17,
   "metadata": {},
   "outputs": [
    {
     "name": "stdout",
     "output_type": "stream",
     "text": [
      "pour N= 1000\n",
      "Nombre des variables aleatoire Xi est=1000,lemda= 10 ,la moyenne= 0.09868309246902478 ,la variance= 0.009817352782031953.\n",
      "Nombre des variables aleatoire Xi est=1000,lemda= 100 ,la moyenne= 0.010128612373921769 ,la variance= 0.00010472443873840091.\n",
      "Nombre des variables aleatoire Xi est=1000,lemda= 1000 ,la moyenne= 0.0009596092082617562 ,la variance= 9.231500657174428e-07.\n",
      "Nombre des variables aleatoire Xi est=1000,lemda= 10000 ,la moyenne= 9.102371325146623e-05 ,la variance= 8.739480900111483e-09.\n",
      "pour N= 10000\n",
      "Nombre des variables aleatoire Xi est=10000,lemda= 10 ,la moyenne= 0.09868309246902478 ,la variance= 0.009817352782031953.\n",
      "Nombre des variables aleatoire Xi est=10000,lemda= 100 ,la moyenne= 0.010128612373921769 ,la variance= 0.00010472443873840091.\n",
      "Nombre des variables aleatoire Xi est=10000,lemda= 1000 ,la moyenne= 0.0009596092082617562 ,la variance= 9.231500657174428e-07.\n",
      "Nombre des variables aleatoire Xi est=10000,lemda= 10000 ,la moyenne= 9.102371325146623e-05 ,la variance= 8.739480900111483e-09.\n",
      "pour N= 100000\n",
      "Nombre des variables aleatoire Xi est=100000,lemda= 10 ,la moyenne= 0.09868309246902478 ,la variance= 0.009817352782031953.\n",
      "Nombre des variables aleatoire Xi est=100000,lemda= 100 ,la moyenne= 0.010128612373921769 ,la variance= 0.00010472443873840091.\n",
      "Nombre des variables aleatoire Xi est=100000,lemda= 1000 ,la moyenne= 0.0009596092082617562 ,la variance= 9.231500657174428e-07.\n",
      "Nombre des variables aleatoire Xi est=100000,lemda= 10000 ,la moyenne= 9.102371325146623e-05 ,la variance= 8.739480900111483e-09.\n",
      "pour N= 1000000\n",
      "Nombre des variables aleatoire Xi est=1000000,lemda= 10 ,la moyenne= 0.09868309246902478 ,la variance= 0.009817352782031953.\n",
      "Nombre des variables aleatoire Xi est=1000000,lemda= 100 ,la moyenne= 0.010128612373921769 ,la variance= 0.00010472443873840091.\n",
      "Nombre des variables aleatoire Xi est=1000000,lemda= 1000 ,la moyenne= 0.0009596092082617562 ,la variance= 9.231500657174428e-07.\n",
      "Nombre des variables aleatoire Xi est=1000000,lemda= 10000 ,la moyenne= 9.102371325146623e-05 ,la variance= 8.739480900111483e-09.\n"
     ]
    }
   ],
   "source": [
    "import numpy as np\n",
    "t=[1000,10000,100000,1000000] # c'est une liste de différent valeur de N>1000\n",
    "lamda=[10,100,1000,10000] # c'est une liste de différent valeur de 𝜆\n",
    "mean=[] #declaration de tableau pour les espérence empérique \n",
    "v =[] #declaration de tableau pour les variance empérique\n",
    "for i in range(4):# boucle pour chaque N : 4 itération (longeur de t)\n",
    "    print(\"pour N=\",t[i])\n",
    "    for j in range(4): #boucle imbriquer pour les différenr valeus de 𝜆 \n",
    "        data = donnees(t[i],lamda[j])\n",
    "        mean.append(moy(data))#lite contient les moyenne de chaque taille \n",
    "        v.append(var_emp(data))#lite contient les variance de chaque taille\n",
    "        print ('Nombre des variables aleatoire Xi est={},lemda= {} ,la moyenne= {} ,la variance= {}.'.format(t[i],lamda[j],mean[j],v[j]))\n",
    "    "
   ]
  },
  {
   "cell_type": "markdown",
   "metadata": {},
   "source": [
    ">* <span style=\"color:orange\">tracage de graphe des fonctions :</span> $N\\to{\\hat{X_{N}}}$ et $N\\to{\\hat{Var^2_{N}}}$ ."
   ]
  },
  {
   "cell_type": "code",
   "execution_count": 18,
   "metadata": {},
   "outputs": [],
   "source": [
    "import numpy as np\n",
    "t=[1000,10000,100000,1000000] # Echantillons\n",
    "lamda=10\n",
    "mean=[]\n",
    "v =[]\n",
    "for i in t:\n",
    "    data = donnees(i,lamda)\n",
    "    mean.append(moy(data))#lite contient les moyenne de chaque taille \n",
    "    v.append(var_emp(data))#lite contient les variance de chaque taille\n",
    "    "
   ]
  },
  {
   "cell_type": "code",
   "execution_count": null,
   "metadata": {},
   "outputs": [],
   "source": [
    "\n",
    "plt.plot(t,v,'r*')\n",
    "plt.plot(t,mean,'b*')\n",
    "plt.xlabel(\"N : les valeurs alératoires\")\n",
    "plt.plot(t,v,color=\"red\",label=\"Variance empérique\")\n",
    "plt.plot(t,mean,color=\"blue\",label=\"Moyenne empérique\") \n",
    "plt.legend()\n",
    "plt.ylabel(\"moyenne/ variance\")\n",
    "plt.show()\n",
    "for i in range(len(t)):\n",
    "    print ('Nombre des variables aleatoire Xi est= {} ,la moyenne= {} ,la variance= {}.'.format(t[i],mean[i],v[i]))\n",
    "\n"
   ]
  },
  {
   "cell_type": "markdown",
   "metadata": {},
   "source": [
    "* **<span style=\"color:orange\">méthode 2: </span>**\n"
   ]
  },
  {
   "cell_type": "code",
   "execution_count": 14,
   "metadata": {},
   "outputs": [
    {
     "name": "stderr",
     "output_type": "stream",
     "text": [
      "C:\\Users\\ASUS\\Anaconda3\\lib\\site-packages\\ipykernel_launcher.py:31: MatplotlibDeprecationWarning: Adding an axes using the same arguments as a previous axes currently reuses the earlier instance.  In a future version, a new instance will always be created and returned.  Meanwhile, this warning can be suppressed, and the future behavior ensured, by passing a unique label to each axes instance.\n",
      "C:\\Users\\ASUS\\Anaconda3\\lib\\site-packages\\ipykernel_launcher.py:35: MatplotlibDeprecationWarning: Adding an axes using the same arguments as a previous axes currently reuses the earlier instance.  In a future version, a new instance will always be created and returned.  Meanwhile, this warning can be suppressed, and the future behavior ensured, by passing a unique label to each axes instance.\n"
     ]
    },
    {
     "data": {
      "image/png": "[encoded data removed]",
      "text/plain": [
       "<Figure size 432x288 with 2 Axes>"
      ]
     },
     "metadata": {
      "needs_background": "light"
     },
     "output_type": "display_data"
    },
    {
     "name": "stdout",
     "output_type": "stream",
     "text": [
      "Nombre des variables aleatoire Xi est= 1000,lemda= 10 ,la moyenne= [0.10043920732210296] ,la variance= [0.011134997107517627].\n",
      "Nombre des variables aleatoire Xi est= 1000,lemda= 100 ,la moyenne= [0.009803807573272405] ,la variance= [9.785411541451668e-05].\n",
      "Nombre des variables aleatoire Xi est= 1000,lemda= 1000 ,la moyenne= [0.0010524253079361437] ,la variance= [1.1003698733572602e-06].\n",
      "Nombre des variables aleatoire Xi est= 1000,lemda= 10000 ,la moyenne= [0.00010326686913896673] ,la variance= [1.0592631656128876e-08].\n",
      "Nombre des variables aleatoire Xi est= 10000,lemda= 10 ,la moyenne= [0.10141127287434329] ,la variance= [0.010372104909832772].\n",
      "Nombre des variables aleatoire Xi est= 10000,lemda= 100 ,la moyenne= [0.009890605556403621] ,la variance= [9.785921062606837e-05].\n",
      "Nombre des variables aleatoire Xi est= 10000,lemda= 1000 ,la moyenne= [0.0010034787072864936] ,la variance= [1.0196551579407174e-06].\n",
      "Nombre des variables aleatoire Xi est= 10000,lemda= 10000 ,la moyenne= [9.963025089968035e-05] ,la variance= [9.737034747572438e-09].\n",
      "Nombre des variables aleatoire Xi est= 100000,lemda= 10 ,la moyenne= [0.09980481947370909] ,la variance= [0.00995707300823209].\n",
      "Nombre des variables aleatoire Xi est= 100000,lemda= 100 ,la moyenne= [0.009976549925236023] ,la variance= [0.00010003020087688598].\n",
      "Nombre des variables aleatoire Xi est= 100000,lemda= 1000 ,la moyenne= [0.000999008185840848] ,la variance= [9.987529713917147e-07].\n",
      "Nombre des variables aleatoire Xi est= 100000,lemda= 10000 ,la moyenne= [9.962293981222787e-05] ,la variance= [9.889318516041164e-09].\n",
      "Nombre des variables aleatoire Xi est= 1000000,lemda= 10 ,la moyenne= [0.10018217298927636] ,la variance= [0.0100415484676129].\n",
      "Nombre des variables aleatoire Xi est= 1000000,lemda= 100 ,la moyenne= [0.009985790260752338] ,la variance= [9.953979326006229e-05].\n",
      "Nombre des variables aleatoire Xi est= 1000000,lemda= 1000 ,la moyenne= [0.0010004750820573124] ,la variance= [9.977913579319e-07].\n",
      "Nombre des variables aleatoire Xi est= 1000000,lemda= 10000 ,la moyenne= [9.990795178817553e-05] ,la variance= [9.986754760972168e-09].\n"
     ]
    }
   ],
   "source": [
    "def Xn(t,n):\n",
    "    x=0\n",
    "    for j in t:\n",
    "        x=x+j\n",
    "    return x/n\n",
    "\n",
    "\n",
    "def On(t,n,xn):\n",
    "    tita=0\n",
    "    for i in t:\n",
    "        tita=tita+(i-xn)**2\n",
    "    return tita/n\n",
    "\n",
    "\n",
    "def creat_alea_table(n,lamda):\n",
    "    t=np.random.exponential(1/lamda,n)\n",
    "    return t\n",
    "\n",
    "n=[1000,10000,100000,1000000] # Echantillons\n",
    "xn=[[]]*4\n",
    "titatable=[[]]*4\n",
    "lamda=[10,100,1000,10000] # les valeurs de lemda\n",
    "\n",
    "for i in range(4):\n",
    "    for j in range(4):\n",
    "        t=creat_alea_table(n[i],lamda[j])\n",
    "        x=Xn(t,n[i])\n",
    "        xn[j].append([x])\n",
    "        titatable[j].append([On(t,n[i],x)])\n",
    "        ########################################\n",
    "        plt.subplot(2,2,1)\n",
    "        plt.plot(lamda[j],titatable[i][j],'ro')\n",
    "        plt.xlabel(\"lemda\")\n",
    "        plt.ylabel(\"variance\")\n",
    "        plt.subplot(2,2,2)\n",
    "        plt.plot(lamda[j],x,'bo')\n",
    "        plt.xlabel(\"lemda\")\n",
    "        plt.ylabel(\"espérence\")\n",
    "plt.show()\n",
    "li=0\n",
    "ni=0\n",
    "ii=0\n",
    "while ii<16:\n",
    "    if li==4:\n",
    "        li=0\n",
    "        ni+=1\n",
    "    print ('Nombre des variables aleatoire Xi est= {},lemda= {} ,la moyenne= {} ,la variance= {}.'.format(n[ni],lamda[li],xn[0][ii],titatable[0][ii]))\n",
    "    ii+=1\n",
    "    li+=1"
   ]
  },
  {
   "cell_type": "markdown",
   "metadata": {},
   "source": [
    "<h2><span  style=\"color:#993366\" >  Interprétation: </span> </h2>"
   ]
  },
  {
   "cell_type": "markdown",
   "metadata": {},
   "source": [
    "<ol><li> Nous avons choisi deux méthodes différentes et chaque méthode à un ensemble de données différent de l'autre, nous avons donc remarqué le même resultat </li>\n",
    "<li>si $𝜆 = 10$ :\n",
    "<ol>\n",
    "    <li>la moyenne empérique = moyenne théorique égale à $0.1$</li>\n",
    "    <li>la variance empérique = variance théorique égale à $0.01$</li>\n",
    "</ol>\n",
    "    <li>si $𝜆 = 100$ :\n",
    "<ol>\n",
    "    <li>la moyenne empérique à peu près égale à moyenne théorique égale à $0.1$</li>\n",
    "    <li>la variance empérique à peu près égale à variance théorique égale à $0.01$</li>\n",
    "</ol>\n",
    "        <li>si $𝜆 > 100$ :\n",
    "<ol>\n",
    "    <li>la moyenne empérique est supérieur moyenne théorique </li>\n",
    "    <li>la variance empérique est supérieur égale à variance théorique </li>\n",
    "</ol>\n",
    "    </ol>\n",
    "* **<span style=\"color:orange\">les tableaux comparatifs entre les valeur empérique est les valeurs théorique: </span>**\n",
    "   "
   ]
  },
  {
   "cell_type": "markdown",
   "metadata": {},
   "source": [
    "<strong>pour N=1000</strong>\n",
    "<img src=\"Tableau1PNG.png\" style=\"height:360px\" alt=\"Girl in a jacket\">"
   ]
  },
  {
   "cell_type": "markdown",
   "metadata": {},
   "source": [
    "<strong>pour N=10000</strong>\n",
    "<img src=\"Tableau 2.png\" style=\"height:300px\">"
   ]
  },
  {
   "cell_type": "markdown",
   "metadata": {},
   "source": [
    "<strong>pour N=10000</strong>\n",
    "<img src=\"Tableau 3.png\" style=\"height:300px\">"
   ]
  },
  {
   "cell_type": "markdown",
   "metadata": {},
   "source": [
    "<h2><span  style=\"color:#993366\" > Conclusion: </span> </h2>\n",
    "\n",
    "#### Quelque soit la valeur de N, la valeur de la moyenne empirique et la varience empirique sont trés proches de les resulats théoriques quelle que soit le data set."
   ]
  },
  {
   "cell_type": "markdown",
   "metadata": {},
   "source": [
    "* **<span style=\"color:red\">Exemple 3: </span>**"
   ]
  },
  {
   "cell_type": "markdown",
   "metadata": {},
   "source": [
    " * <strong> Partie 1: <code> Etude théorique</code></strong>\n",
    "\n",
    " <br>$$\\mathbb{EX}=\\frac{a+b}{2}$$  $$𝝈^2_{x}=\\frac{(a-b)(a-b-2)}{12} $$\n",
    "$$ F(x)=   \\left \\{\n",
    "   \\begin{array}{r c l}\n",
    "      0  & ; & x<b \\\\\n",
    "      \\frac{1+(x-a)}{b-a+1} & ; & x>0 \\\\\n",
    "      1 & ; & x>b\n",
    "   \\end{array}\n",
    "   \\right .$$\n"
   ]
  },
  {
   "cell_type": "markdown",
   "metadata": {},
   "source": [
    "> <strong><a  style=\"color:#FF300\" > scipy.stats.randint (): </a></strong>\n",
    "est une variable aléatoire discrète uniforme. Il est hérité des méthodes génériques en tant qu'instance de la classe rv_discrete . Il complète les méthodes avec des détails spécifiques à cette distribution particulière."
   ]
  },
  {
   "cell_type": "markdown",
   "metadata": {},
   "source": [
    "* <strong> Partie 1: <code> Etude pratique</code></strong>\n",
    ">* <p>Déclaration d'une fonction qui permet de génére $N$ valeurs de la variable aléatoires d’une façon uniforme.</p>"
   ]
  },
  {
   "cell_type": "code",
   "execution_count": 36,
   "metadata": {},
   "outputs": [],
   "source": [
    "from scipy.stats import randint  # bibliothéque pour génerer une distribution discréte\n",
    "def donnes(a,b,n): # Focntion qui va fénérer les valeurs xn \n",
    "    list=[] # liste vide\n",
    "    x=randint.rvs(a,b,size=n) #génerer une distrubtion discréte uniforme\n",
    "    for i in x: \n",
    "        if i<a: # 1ér cas : si x<a\n",
    "            list.append(0) # f(x) = 0\n",
    "        elif i>= a and i<b: # 2éme cas : a =< x < b\n",
    "            list.append((1+(i-a)/(b-a+1))) # f(x) \n",
    "        elif i>=b: # 3éme cas : x >= b\n",
    "            list.append(1) # f(x) = 1\n",
    "    return list"
   ]
  },
  {
   "cell_type": "code",
   "execution_count": 37,
   "metadata": {},
   "outputs": [
    {
     "data": {
      "image/png": "[encoded data removed]",
      "text/plain": [
       "<Figure size 432x288 with 1 Axes>"
      ]
     },
     "metadata": {
      "needs_background": "light"
     },
     "output_type": "display_data"
    },
    {
     "name": "stdout",
     "output_type": "stream",
     "text": [
      "[1000, 10000, 100000, 1000000]\n",
      "Nombre des variables aleatoire Xi est= 1000 ,la moyenne= 1.4335238095238074 ,la variance= 0.07678726530612272\n",
      "Nombre des variables aleatoire Xi est= 10000 ,la moyenne= 1.4502761904761767 ,la variance= 0.07551212326530438\n",
      "Nombre des variables aleatoire Xi est= 100000 ,la moyenne= 1.4527690476190829 ,la variance= 0.07528120992632102\n",
      "Nombre des variables aleatoire Xi est= 1000000 ,la moyenne= 1.4523240952369363 ,la variance= 0.07543155232287661\n"
     ]
    }
   ],
   "source": [
    "plt.style.use('seaborn-deep')\n",
    "xn=[]\n",
    "tita=[]\n",
    "a=10\n",
    "b=30\n",
    "for i in n:\n",
    "    t=donnes(a,b,i)\n",
    "    x=Xn(t,i)\n",
    "    xn.append(x)\n",
    "    tita.append(On(t,i,x))\n",
    "    \n",
    "plt.plot(n,tita,'r*')\n",
    "plt.plot(n,xn,'b*')\n",
    "plt.plot(n,tita,color=\"red\",label=\"Variance\") \n",
    "plt.plot(n,xn,color=\"blue\",label=\"Moyenne \") \n",
    "plt.legend()\n",
    "plt.show()\n",
    "print(n)\n",
    "for i in range(len(n)):\n",
    "    print('Nombre des variables aleatoire Xi est= {} ,la moyenne= {} ,la variance= {}'.format(n[i],xn[i],tita[i]))"
   ]
  },
  {
   "cell_type": "markdown",
   "metadata": {},
   "source": [
    "<h2><span  style=\"color:#993366\" > Interprétation: </span> </h2>\n",
    "<strong> Les résultats pratiques:</strong>"
   ]
  },
  {
   "cell_type": "markdown",
   "metadata": {},
   "source": [
    "<img src=\"Tableau 4.png\" style=\"height:300px\">"
   ]
  },
  {
   "cell_type": "markdown",
   "metadata": {},
   "source": [
    "> <strong><p>La moyenne empirique et la varience empirique sont presque egal l'esperence et la varience theorique quelque soit le nombre de variable aleatoire (N).</p></strong>&#x1F601;"
   ]
  },
  {
   "cell_type": "markdown",
   "metadata": {},
   "source": [
    "* **<span style=\"color:red\">Exemple 3: </span>**\n",
    "$$P{X=0}=0,3 , P{X=2}=0,2 , P{X=6}=0,5 $$\n",
    "$$\\mathbb{EX}=3.4 $$  $$𝝈^2_{x}=7,24 $$\n",
    "$$ F(x)=   \\left \\{\n",
    "   \\begin{array}{r c l}\n",
    "      0  & ; & x<0 \\\\\n",
    "      0,3 & ; & 0<x<2\\\\\n",
    "      0,5 & ; & 2<x<6\\\\\n",
    "       1 & ; & x>6\n",
    "   \\end{array}\n",
    "   \\right .$$\n"
   ]
  },
  {
   "cell_type": "code",
   "execution_count": 38,
   "metadata": {},
   "outputs": [],
   "source": [
    "def creat_tabe(n):\n",
    "    x=[]\n",
    "    t=np.random.uniform(0, 1,n)\n",
    "    for i in t:\n",
    "        if i<0.3:\n",
    "            x.append(0)\n",
    "        elif i<0.5:\n",
    "            x.append(2)\n",
    "        else:\n",
    "            x.append(6)\n",
    "    return x"
   ]
  },
  {
   "cell_type": "code",
   "execution_count": 42,
   "metadata": {},
   "outputs": [
    {
     "data": {
      "image/png": "[encoded data removed]",
      "text/plain": [
       "<Figure size 432x288 with 1 Axes>"
      ]
     },
     "metadata": {
      "needs_background": "light"
     },
     "output_type": "display_data"
    },
    {
     "name": "stdout",
     "output_type": "stream",
     "text": [
      "Nombre des variables aleatoire Xi est= 1000 ,la moyenne= 3.496 ,la variance= 7.201984000000068.\n",
      "Nombre des variables aleatoire Xi est= 10000 ,la moyenne= 3.478 ,la variance= 7.2483159999995594.\n",
      "Nombre des variables aleatoire Xi est= 100000 ,la moyenne= 3.41102 ,la variance= 7.245062559588605.\n",
      "Nombre des variables aleatoire Xi est= 1000000 ,la moyenne= 3.398262 ,la variance= 7.242987379299671.\n"
     ]
    }
   ],
   "source": [
    "xn=[]\n",
    "tita=[]\n",
    "for i in n:\n",
    "    t=creat_tabe(i)\n",
    "    x=Xn(t,i)\n",
    "    xn.append(x)\n",
    "    tita.append(On(t,i,x))\n",
    "    ###########################Afichage#################################\n",
    "plt.plot(n,tita,color=\"red\",label=\"Variance \") # courbe de tita empérique en focntion de n \n",
    "plt.plot(n,xn,color=\"green\",label=\"Moyenne \")  # courbe de moyenne empérique en focntion de n\n",
    "plt.xlabel(\"N\")\n",
    "plt.ylabel(\"Variables aléatoires\")\n",
    "plt.legend()\n",
    "plt.show() # affichier la figure\n",
    "for i in range(len(n)):\n",
    "    print ('Nombre des variables aleatoire Xi est= {} ,la moyenne= {} ,la variance= {}.'.format(n[i],xn[i],tita[i]))\n",
    "    \n"
   ]
  },
  {
   "cell_type": "markdown",
   "metadata": {},
   "source": [
    "* <strong> Resultat <code>  pratique</code></strong>"
   ]
  },
  {
   "cell_type": "markdown",
   "metadata": {},
   "source": [
    "<img src=\"Tableau 5.png\" style=\"height:300px\">"
   ]
  },
  {
   "cell_type": "markdown",
   "metadata": {},
   "source": [
    "* <strong> Resultat <code>  théorique</code></strong>"
   ]
  },
  {
   "cell_type": "markdown",
   "metadata": {},
   "source": [
    "# <img src=\"Tableau 6.png\" style=\"height:150px\">"
   ]
  },
  {
   "cell_type": "markdown",
   "metadata": {},
   "source": [
    "* **<span style=\"color:red\">Conclusion : </span>**\n",
    "\n",
    "> <strong><p>La valeur de la moyenne empirique et la varience empirique sont presque egal l'esperence et la varience theorique quelque soit le nombre de variable aleatoire (N)..</p></strong>&#x1F601;"
   ]
  },
  {
   "cell_type": "markdown",
   "metadata": {},
   "source": [
    "<center><h1> Conclusion générale </h1></center>"
   ]
  },
  {
   "cell_type": "markdown",
   "metadata": {},
   "source": [
    "<div class=\"alert alert-block alert-info\">** <span style=\"color:#000000\">Au cours de ce TP, nous avons déterminé la moyenne et la variance d'une variable aléatoire x et nous avons remarqué à chaque fois que les résulats pratiques sont trés proches de les résulats théoriques.</span></div>"
   ]
  }
 ],
 "metadata": {
  "kernelspec": {
   "display_name": "Python 3",
   "language": "python",
   "name": "python3"
  },
  "language_info": {
   "codemirror_mode": {
    "name": "ipython",
    "version": 3
   },
   "file_extension": ".py",
   "mimetype": "text/x-python",
   "name": "python",
   "nbconvert_exporter": "python",
   "pygments_lexer": "ipython3",
   "version": "3.7.1"
  }
 },
 "nbformat": 4,
 "nbformat_minor": 2
}
