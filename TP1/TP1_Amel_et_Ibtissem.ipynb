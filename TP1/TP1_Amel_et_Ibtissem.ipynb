{
 "cells": [
  {
   "cell_type": "markdown",
   "metadata": {},
   "source": [
    "<img src=\"tpan1.png\">"
   ]
  },
  {
   "cell_type": "markdown",
   "metadata": {},
   "source": [
    "### Réalisé par \n",
    "* <strong>Ibtissem BOUZIDI 2DNI1</strong>\n",
    "* <strong>Amel ELAGES 2DNI1</strong>"
   ]
  },
  {
   "cell_type": "markdown",
   "metadata": {},
   "source": [
    ">* **<span style=\"color:#0000C0\">Travail demandé : </span>**\n",
    "<br> Pour chacune des distributions ci-dessous, l'exercice est le suivant :\n",
    "> <ol> <li> Faire un programme qui génère N valeurs de la variables aléatoire: $X_{1} X_{2} . . . X_{N}$ . On prendra $N$ grand, mettons 10000 ou plus.</li>\n",
    " <li>Calculer les estimateurs statistiques pour la moyenne est la variance de la variable aléatoire $X$ , selon les formules (1) ci-dessus, et vérifier que $\\bar{X_{N}}$ .$N$ est proche de la moyenne  $\\mathbb{E\\bar{X_{N}}}$ , et $\\bar{Var^2_{N}}$ proche de la variance $Var^2_{N}$ .\n",
    "Il est intéressant de voir comment ces statistiques dépendent de M : tracer les graphes des fonctions $N\\to{\\bar{X_{N}}}$ et $N\\to{\\bar{Var^2_{N}}}$ .\n",
    "    </li></ol>"
   ]
  },
  {
   "cell_type": "code",
   "execution_count": null,
   "metadata": {},
   "outputs": [],
   "source": []
  }
 ],
 "metadata": {
  "kernelspec": {
   "display_name": "Python 3",
   "language": "python",
   "name": "python3"
  },
  "language_info": {
   "codemirror_mode": {
    "name": "ipython",
    "version": 3
   },
   "file_extension": ".py",
   "mimetype": "text/x-python",
   "name": "python",
   "nbconvert_exporter": "python",
   "pygments_lexer": "ipython3",
   "version": "3.7.1"
  }
 },
 "nbformat": 4,
 "nbformat_minor": 2
}
